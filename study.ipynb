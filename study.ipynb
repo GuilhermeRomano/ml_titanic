{
 "cells": [
  {
   "attachments": {},
   "cell_type": "markdown",
   "metadata": {},
   "source": [
    "# Análise Exploratória\n",
    "\n",
    "O objetivo deste notebook é explorar os dados e analisar algumas hipóteses antes de treinar o modelo em outro notebook.\n",
    "\n",
    "Esclarecendo que o objetivo deste desafio é obter um modelo de alta exatidão (accuracy) (soma de verdadeiros-positivos e verdadeiros-negativos dividida pelo total) que prediz os sobreviventes do RMS Titanic."
   ]
  },
  {
   "cell_type": "code",
   "execution_count": 75,
   "metadata": {},
   "outputs": [],
   "source": [
    "import numpy as np\n",
    "import pandas as pd\n",
    "import seaborn as sns\n",
    "from os import path"
   ]
  },
  {
   "cell_type": "code",
   "execution_count": 76,
   "metadata": {},
   "outputs": [
    {
     "data": {
      "text/html": [
       "<div>\n",
       "<style scoped>\n",
       "    .dataframe tbody tr th:only-of-type {\n",
       "        vertical-align: middle;\n",
       "    }\n",
       "\n",
       "    .dataframe tbody tr th {\n",
       "        vertical-align: top;\n",
       "    }\n",
       "\n",
       "    .dataframe thead th {\n",
       "        text-align: right;\n",
       "    }\n",
       "</style>\n",
       "<table border=\"1\" class=\"dataframe\">\n",
       "  <thead>\n",
       "    <tr style=\"text-align: right;\">\n",
       "      <th></th>\n",
       "      <th>passenger_id</th>\n",
       "      <th>survived</th>\n",
       "      <th>p_class</th>\n",
       "      <th>name</th>\n",
       "      <th>sex</th>\n",
       "      <th>age</th>\n",
       "      <th>sib_sp</th>\n",
       "      <th>par_ch</th>\n",
       "      <th>ticket</th>\n",
       "      <th>fare</th>\n",
       "      <th>cabin</th>\n",
       "      <th>embarked</th>\n",
       "    </tr>\n",
       "  </thead>\n",
       "  <tbody>\n",
       "    <tr>\n",
       "      <th>0</th>\n",
       "      <td>1</td>\n",
       "      <td>0</td>\n",
       "      <td>3</td>\n",
       "      <td>Braund, Mr. Owen Harris</td>\n",
       "      <td>male</td>\n",
       "      <td>22.0</td>\n",
       "      <td>1</td>\n",
       "      <td>0</td>\n",
       "      <td>A/5 21171</td>\n",
       "      <td>7.2500</td>\n",
       "      <td>NaN</td>\n",
       "      <td>S</td>\n",
       "    </tr>\n",
       "    <tr>\n",
       "      <th>1</th>\n",
       "      <td>2</td>\n",
       "      <td>1</td>\n",
       "      <td>1</td>\n",
       "      <td>Cumings, Mrs. John Bradley (Florence Briggs Th...</td>\n",
       "      <td>female</td>\n",
       "      <td>38.0</td>\n",
       "      <td>1</td>\n",
       "      <td>0</td>\n",
       "      <td>PC 17599</td>\n",
       "      <td>71.2833</td>\n",
       "      <td>C85</td>\n",
       "      <td>C</td>\n",
       "    </tr>\n",
       "    <tr>\n",
       "      <th>2</th>\n",
       "      <td>3</td>\n",
       "      <td>1</td>\n",
       "      <td>3</td>\n",
       "      <td>Heikkinen, Miss. Laina</td>\n",
       "      <td>female</td>\n",
       "      <td>26.0</td>\n",
       "      <td>0</td>\n",
       "      <td>0</td>\n",
       "      <td>STON/O2. 3101282</td>\n",
       "      <td>7.9250</td>\n",
       "      <td>NaN</td>\n",
       "      <td>S</td>\n",
       "    </tr>\n",
       "    <tr>\n",
       "      <th>3</th>\n",
       "      <td>4</td>\n",
       "      <td>1</td>\n",
       "      <td>1</td>\n",
       "      <td>Futrelle, Mrs. Jacques Heath (Lily May Peel)</td>\n",
       "      <td>female</td>\n",
       "      <td>35.0</td>\n",
       "      <td>1</td>\n",
       "      <td>0</td>\n",
       "      <td>113803</td>\n",
       "      <td>53.1000</td>\n",
       "      <td>C123</td>\n",
       "      <td>S</td>\n",
       "    </tr>\n",
       "    <tr>\n",
       "      <th>4</th>\n",
       "      <td>5</td>\n",
       "      <td>0</td>\n",
       "      <td>3</td>\n",
       "      <td>Allen, Mr. William Henry</td>\n",
       "      <td>male</td>\n",
       "      <td>35.0</td>\n",
       "      <td>0</td>\n",
       "      <td>0</td>\n",
       "      <td>373450</td>\n",
       "      <td>8.0500</td>\n",
       "      <td>NaN</td>\n",
       "      <td>S</td>\n",
       "    </tr>\n",
       "  </tbody>\n",
       "</table>\n",
       "</div>"
      ],
      "text/plain": [
       "   passenger_id  survived  p_class  \\\n",
       "0             1         0        3   \n",
       "1             2         1        1   \n",
       "2             3         1        3   \n",
       "3             4         1        1   \n",
       "4             5         0        3   \n",
       "\n",
       "                                                name     sex   age  sib_sp  \\\n",
       "0                            Braund, Mr. Owen Harris    male  22.0       1   \n",
       "1  Cumings, Mrs. John Bradley (Florence Briggs Th...  female  38.0       1   \n",
       "2                             Heikkinen, Miss. Laina  female  26.0       0   \n",
       "3       Futrelle, Mrs. Jacques Heath (Lily May Peel)  female  35.0       1   \n",
       "4                           Allen, Mr. William Henry    male  35.0       0   \n",
       "\n",
       "   par_ch            ticket     fare cabin embarked  \n",
       "0       0         A/5 21171   7.2500   NaN        S  \n",
       "1       0          PC 17599  71.2833   C85        C  \n",
       "2       0  STON/O2. 3101282   7.9250   NaN        S  \n",
       "3       0            113803  53.1000  C123        S  \n",
       "4       0            373450   8.0500   NaN        S  "
      ]
     },
     "execution_count": 76,
     "metadata": {},
     "output_type": "execute_result"
    }
   ],
   "source": [
    "data_folder = \"data\"\n",
    "raw_folder = \"raw\"\n",
    "train_file = \"train.csv\"\n",
    "\n",
    "train_path = path.join(data_folder, raw_folder, train_file)\n",
    "\n",
    "train = pd.read_csv(\n",
    "    train_path,\n",
    "    header=0,\n",
    "    names=[\n",
    "        \"passenger_id\",\n",
    "        \"survived\",\n",
    "        \"p_class\",\n",
    "        \"name\",\n",
    "        \"sex\",\n",
    "        \"age\",\n",
    "        \"sib_sp\",\n",
    "        \"par_ch\",\n",
    "        \"ticket\",\n",
    "        \"fare\",\n",
    "        \"cabin\",\n",
    "        \"embarked\",\n",
    "    ],\n",
    "    dtype={\"sex\": \"category\", \"embarked\": \"category\"},\n",
    ")\n",
    "train.head()"
   ]
  },
  {
   "cell_type": "code",
   "execution_count": 77,
   "metadata": {},
   "outputs": [
    {
     "name": "stdout",
     "output_type": "stream",
     "text": [
      "<class 'pandas.core.frame.DataFrame'>\n",
      "RangeIndex: 891 entries, 0 to 890\n",
      "Data columns (total 12 columns):\n",
      " #   Column        Non-Null Count  Dtype   \n",
      "---  ------        --------------  -----   \n",
      " 0   passenger_id  891 non-null    int64   \n",
      " 1   survived      891 non-null    int64   \n",
      " 2   p_class       891 non-null    int64   \n",
      " 3   name          891 non-null    object  \n",
      " 4   sex           891 non-null    category\n",
      " 5   age           714 non-null    float64 \n",
      " 6   sib_sp        891 non-null    int64   \n",
      " 7   par_ch        891 non-null    int64   \n",
      " 8   ticket        891 non-null    object  \n",
      " 9   fare          891 non-null    float64 \n",
      " 10  cabin         204 non-null    object  \n",
      " 11  embarked      889 non-null    category\n",
      "dtypes: category(2), float64(2), int64(5), object(3)\n",
      "memory usage: 71.7+ KB\n"
     ]
    }
   ],
   "source": [
    "train.info()"
   ]
  },
  {
   "attachments": {},
   "cell_type": "markdown",
   "metadata": {},
   "source": [
    "Da página de desafio, temos o dicionário dos dados, copiado para aqui para fácil referência.\n",
    "\n",
    "| Variable |                 Definition                 |                       Key                      |\n",
    "|:--------:|:------------------------------------------:|:----------------------------------------------:|\n",
    "| survival | Survival                                   | 0 = No, 1 = Yes                                |\n",
    "| pclass   | Ticket class                               | 1 = 1st, 2 = 2nd, 3 = 3rd                      |\n",
    "| sex      | Sex                                        |                                                |\n",
    "| Age      | Age in years                               |                                                |\n",
    "| sibsp    | # of siblings / spouses aboard the Titanic |                                                |\n",
    "| parch    | # of parents / children aboard the Titanic |                                                |\n",
    "| ticket   | Ticket number                              |                                                |\n",
    "| fare     | Passenger fare                             |                                                |\n",
    "| cabin    | Cabin number                               |                                                |\n",
    "| embarked | Port of Embarkation                        | C = Cherbourg, Q = Queenstown, S = Southampton |\n"
   ]
  },
  {
   "attachments": {},
   "cell_type": "markdown",
   "metadata": {},
   "source": [
    "## Hipóteses\n",
    "\n",
    "Vamos analisar algumas hipóteses, tentando descobrir a relevância das features presentes para o target (survived)."
   ]
  },
  {
   "attachments": {},
   "cell_type": "markdown",
   "metadata": {},
   "source": [
    "#### Hipótese 1 - Mulheres tem maior probabilidade de sobreviver.\n",
    "\n",
    "Hipótese que é levantada na própria página do desafio e bastante esperada devido a cultura da época."
   ]
  },
  {
   "cell_type": "code",
   "execution_count": 78,
   "metadata": {},
   "outputs": [
    {
     "data": {
      "text/plain": [
       "<seaborn.axisgrid.FacetGrid at 0x28f552a78b0>"
      ]
     },
     "execution_count": 78,
     "metadata": {},
     "output_type": "execute_result"
    },
    {
     "data": {
      "image/png": "[encoded data removed]",
      "text/plain": [
       "<Figure size 500x500 with 1 Axes>"
      ]
     },
     "metadata": {},
     "output_type": "display_data"
    }
   ],
   "source": [
    "sns.displot(train, x=\"sex\")"
   ]
  },
  {
   "cell_type": "code",
   "execution_count": 79,
   "metadata": {},
   "outputs": [
    {
     "name": "stdout",
     "output_type": "stream",
     "text": [
      "Percentual de mulheres que sobreviveram: 0.7420382165605095\n"
     ]
    }
   ],
   "source": [
    "women = train.loc[train.sex == \"female\"][\"survived\"]\n",
    "percentual_women = sum(women) / len(women)\n",
    "\n",
    "print(\"Percentual de mulheres que sobreviveram:\", percentual_women)"
   ]
  },
  {
   "cell_type": "code",
   "execution_count": 80,
   "metadata": {},
   "outputs": [
    {
     "name": "stdout",
     "output_type": "stream",
     "text": [
      "Percentual de homens que sobreviveram: 0.18890814558058924\n"
     ]
    }
   ],
   "source": [
    "men = train.loc[train.sex == \"male\"][\"survived\"]\n",
    "percentual_men = sum(men) / len(men)\n",
    "\n",
    "print(\"Percentual de homens que sobreviveram:\", percentual_men)"
   ]
  },
  {
   "cell_type": "code",
   "execution_count": 112,
   "metadata": {},
   "outputs": [
    {
     "data": {
      "text/html": [
       "<div>\n",
       "<style scoped>\n",
       "    .dataframe tbody tr th:only-of-type {\n",
       "        vertical-align: middle;\n",
       "    }\n",
       "\n",
       "    .dataframe tbody tr th {\n",
       "        vertical-align: top;\n",
       "    }\n",
       "\n",
       "    .dataframe thead th {\n",
       "        text-align: right;\n",
       "    }\n",
       "</style>\n",
       "<table border=\"1\" class=\"dataframe\">\n",
       "  <thead>\n",
       "    <tr style=\"text-align: right;\">\n",
       "      <th></th>\n",
       "      <th>survived</th>\n",
       "      <th>sex</th>\n",
       "    </tr>\n",
       "  </thead>\n",
       "  <tbody>\n",
       "    <tr>\n",
       "      <th>survived</th>\n",
       "      <td>1.000000</td>\n",
       "      <td>0.543351</td>\n",
       "    </tr>\n",
       "    <tr>\n",
       "      <th>sex</th>\n",
       "      <td>0.543351</td>\n",
       "      <td>1.000000</td>\n",
       "    </tr>\n",
       "  </tbody>\n",
       "</table>\n",
       "</div>"
      ],
      "text/plain": [
       "          survived       sex\n",
       "survived  1.000000  0.543351\n",
       "sex       0.543351  1.000000"
      ]
     },
     "execution_count": 112,
     "metadata": {},
     "output_type": "execute_result"
    }
   ],
   "source": [
    "sex_df = train.loc[:, [\"survived\", \"sex\"]]\n",
    "# removendo os dois que não tem informação, assumindo que eles nunca embarcaram.\n",
    "sex_df[\"sex\"] = sex_df[\"sex\"].replace(\n",
    "    {\n",
    "        \"female\": 1,\n",
    "        \"male\": 0,\n",
    "    }\n",
    ")\n",
    "sex_df[\"sex\"] = pd.to_numeric(sex_df[\"sex\"])\n",
    "sex_df.corr()"
   ]
  },
  {
   "attachments": {},
   "cell_type": "markdown",
   "metadata": {},
   "source": [
    "É notável a relação entre sexo e a chance de sobreviver para esse caso, sendo um provável Feature relevante."
   ]
  },
  {
   "attachments": {},
   "cell_type": "markdown",
   "metadata": {},
   "source": [
    "#### Hipótese 2 - Quão mais jovem o passageiro, maior a chance de sobreviver.\n",
    "\n",
    "Supondo que a confusão, stress e acidentes possam ter levado a morte de passageiros mais velhos e que crianças tinham prioridade nos botes.\n",
    "Primeiro, analisando a distribuição de idades dos passageiros vemos que é um gráfico enviesado a direita, com um pico menor nos bebês."
   ]
  },
  {
   "cell_type": "code",
   "execution_count": 81,
   "metadata": {},
   "outputs": [
    {
     "data": {
      "text/plain": [
       "<seaborn.axisgrid.FacetGrid at 0x28f500ae770>"
      ]
     },
     "execution_count": 81,
     "metadata": {},
     "output_type": "execute_result"
    },
    {
     "data": {
      "image/png": "[encoded data removed]",
      "text/plain": [
       "<Figure size 500x500 with 1 Axes>"
      ]
     },
     "metadata": {},
     "output_type": "display_data"
    }
   ],
   "source": [
    "sns.displot(train, x=\"age\")"
   ]
  },
  {
   "attachments": {},
   "cell_type": "markdown",
   "metadata": {},
   "source": [
    "Analisando a correlação entre idade e sobrevivência, pelo método de Pearson, mostra pouca correlação negativa. Então, usar a idade puramente pode não ser um Feature tão interessante. Ainda assim, podemos analisar alguns grupos derivados da idade."
   ]
  },
  {
   "cell_type": "code",
   "execution_count": 82,
   "metadata": {},
   "outputs": [
    {
     "data": {
      "text/html": [
       "<div>\n",
       "<style scoped>\n",
       "    .dataframe tbody tr th:only-of-type {\n",
       "        vertical-align: middle;\n",
       "    }\n",
       "\n",
       "    .dataframe tbody tr th {\n",
       "        vertical-align: top;\n",
       "    }\n",
       "\n",
       "    .dataframe thead th {\n",
       "        text-align: right;\n",
       "    }\n",
       "</style>\n",
       "<table border=\"1\" class=\"dataframe\">\n",
       "  <thead>\n",
       "    <tr style=\"text-align: right;\">\n",
       "      <th></th>\n",
       "      <th>age</th>\n",
       "      <th>survived</th>\n",
       "    </tr>\n",
       "  </thead>\n",
       "  <tbody>\n",
       "    <tr>\n",
       "      <th>age</th>\n",
       "      <td>1.000000</td>\n",
       "      <td>-0.077221</td>\n",
       "    </tr>\n",
       "    <tr>\n",
       "      <th>survived</th>\n",
       "      <td>-0.077221</td>\n",
       "      <td>1.000000</td>\n",
       "    </tr>\n",
       "  </tbody>\n",
       "</table>\n",
       "</div>"
      ],
      "text/plain": [
       "               age  survived\n",
       "age       1.000000 -0.077221\n",
       "survived -0.077221  1.000000"
      ]
     },
     "execution_count": 82,
     "metadata": {},
     "output_type": "execute_result"
    }
   ],
   "source": [
    "train[[\"age\", \"survived\"]].corr()"
   ]
  },
  {
   "cell_type": "code",
   "execution_count": 83,
   "metadata": {},
   "outputs": [
    {
     "name": "stdout",
     "output_type": "stream",
     "text": [
      "Percentual de bebês que sobreviveram: 0.7021276595744681\n"
     ]
    }
   ],
   "source": [
    "old = train.loc[train[\"age\"].le(6)][\"survived\"]\n",
    "percentual_old = sum(old) / len(old)\n",
    "\n",
    "print(\"Percentual de bebês que sobreviveram:\", percentual_old)"
   ]
  },
  {
   "cell_type": "code",
   "execution_count": 84,
   "metadata": {},
   "outputs": [
    {
     "name": "stdout",
     "output_type": "stream",
     "text": [
      "Percentual de crianças que sobreviveram: 0.40217391304347827\n"
     ]
    }
   ],
   "source": [
    "old = train.loc[(train[\"age\"].gt(6)) & (train[\"age\"].le(18))][\"survived\"]\n",
    "percentual_old = sum(old) / len(old)\n",
    "\n",
    "print(\"Percentual de crianças que sobreviveram:\", percentual_old)"
   ]
  },
  {
   "cell_type": "code",
   "execution_count": 85,
   "metadata": {},
   "outputs": [
    {
     "name": "stdout",
     "output_type": "stream",
     "text": [
      "Percentual de adultos que sobreviveram: 0.3887884267631103\n"
     ]
    }
   ],
   "source": [
    "old = train.loc[(train[\"age\"].gt(18)) & (train[\"age\"].le(60))][\"survived\"]\n",
    "percentual_old = sum(old) / len(old)\n",
    "\n",
    "print(\"Percentual de adultos que sobreviveram:\", percentual_old)"
   ]
  },
  {
   "cell_type": "code",
   "execution_count": 86,
   "metadata": {},
   "outputs": [
    {
     "name": "stdout",
     "output_type": "stream",
     "text": [
      "Percentual de idosos que sobreviveram: 0.22727272727272727\n"
     ]
    }
   ],
   "source": [
    "old = train.loc[train[\"age\"].gt(60)][\"survived\"]\n",
    "percentual_old = sum(old) / len(old)\n",
    "\n",
    "print(\"Percentual de idosos que sobreviveram:\", percentual_old)"
   ]
  },
  {
   "attachments": {},
   "cell_type": "markdown",
   "metadata": {},
   "source": [
    "Crianças, adolescentes, adultos e idosos tem valores menores que 50% de sobrevivência, especialmente idosos com menos de 25% de chance apenas. Em contraste, bebês tem aproximadamente 70% de chance de sobrevivência. Alguns Features podem ser derivados dessa idade então. "
   ]
  },
  {
   "cell_type": "code",
   "execution_count": 87,
   "metadata": {},
   "outputs": [
    {
     "name": "stdout",
     "output_type": "stream",
     "text": [
      "<class 'pandas.core.frame.DataFrame'>\n",
      "RangeIndex: 891 entries, 0 to 890\n",
      "Data columns (total 6 columns):\n",
      " #   Column    Non-Null Count  Dtype  \n",
      "---  ------    --------------  -----  \n",
      " 0   survived  891 non-null    int64  \n",
      " 1   age       714 non-null    float64\n",
      " 2   baby      891 non-null    bool   \n",
      " 3   child     891 non-null    bool   \n",
      " 4   adult     891 non-null    bool   \n",
      " 5   elder     891 non-null    bool   \n",
      "dtypes: bool(4), float64(1), int64(1)\n",
      "memory usage: 17.5 KB\n"
     ]
    }
   ],
   "source": [
    "age_df = train.loc[:, (\"survived\", \"age\")]\n",
    "age_df[\"baby\"] = age_df[\"age\"].le(6)\n",
    "age_df[\"child\"] = np.logical_and(age_df[\"age\"].gt(6), (age_df[\"age\"].le(18)))\n",
    "age_df[\"adult\"] = np.logical_and(age_df[\"age\"].gt(18), (age_df[\"age\"].le(60)))\n",
    "age_df[\"elder\"] = age_df[\"age\"].gt(60)\n",
    "age_df.info()"
   ]
  },
  {
   "cell_type": "code",
   "execution_count": 88,
   "metadata": {},
   "outputs": [
    {
     "data": {
      "text/html": [
       "<div>\n",
       "<style scoped>\n",
       "    .dataframe tbody tr th:only-of-type {\n",
       "        vertical-align: middle;\n",
       "    }\n",
       "\n",
       "    .dataframe tbody tr th {\n",
       "        vertical-align: top;\n",
       "    }\n",
       "\n",
       "    .dataframe thead th {\n",
       "        text-align: right;\n",
       "    }\n",
       "</style>\n",
       "<table border=\"1\" class=\"dataframe\">\n",
       "  <thead>\n",
       "    <tr style=\"text-align: right;\">\n",
       "      <th></th>\n",
       "      <th>survived</th>\n",
       "      <th>age</th>\n",
       "      <th>baby</th>\n",
       "      <th>child</th>\n",
       "      <th>adult</th>\n",
       "      <th>elder</th>\n",
       "    </tr>\n",
       "  </thead>\n",
       "  <tbody>\n",
       "    <tr>\n",
       "      <th>survived</th>\n",
       "      <td>1.000000</td>\n",
       "      <td>-0.077221</td>\n",
       "      <td>0.154447</td>\n",
       "      <td>0.012794</td>\n",
       "      <td>0.013019</td>\n",
       "      <td>-0.051224</td>\n",
       "    </tr>\n",
       "    <tr>\n",
       "      <th>age</th>\n",
       "      <td>-0.077221</td>\n",
       "      <td>1.000000</td>\n",
       "      <td>-0.493224</td>\n",
       "      <td>-0.394761</td>\n",
       "      <td>0.424660</td>\n",
       "      <td>0.446160</td>\n",
       "    </tr>\n",
       "    <tr>\n",
       "      <th>baby</th>\n",
       "      <td>0.154447</td>\n",
       "      <td>-0.493224</td>\n",
       "      <td>1.000000</td>\n",
       "      <td>-0.080075</td>\n",
       "      <td>-0.301844</td>\n",
       "      <td>-0.037547</td>\n",
       "    </tr>\n",
       "    <tr>\n",
       "      <th>child</th>\n",
       "      <td>0.012794</td>\n",
       "      <td>-0.394761</td>\n",
       "      <td>-0.080075</td>\n",
       "      <td>1.000000</td>\n",
       "      <td>-0.434035</td>\n",
       "      <td>-0.053991</td>\n",
       "    </tr>\n",
       "    <tr>\n",
       "      <th>adult</th>\n",
       "      <td>0.013019</td>\n",
       "      <td>0.424660</td>\n",
       "      <td>-0.301844</td>\n",
       "      <td>-0.434035</td>\n",
       "      <td>1.000000</td>\n",
       "      <td>-0.203519</td>\n",
       "    </tr>\n",
       "    <tr>\n",
       "      <th>elder</th>\n",
       "      <td>-0.051224</td>\n",
       "      <td>0.446160</td>\n",
       "      <td>-0.037547</td>\n",
       "      <td>-0.053991</td>\n",
       "      <td>-0.203519</td>\n",
       "      <td>1.000000</td>\n",
       "    </tr>\n",
       "  </tbody>\n",
       "</table>\n",
       "</div>"
      ],
      "text/plain": [
       "          survived       age      baby     child     adult     elder\n",
       "survived  1.000000 -0.077221  0.154447  0.012794  0.013019 -0.051224\n",
       "age      -0.077221  1.000000 -0.493224 -0.394761  0.424660  0.446160\n",
       "baby      0.154447 -0.493224  1.000000 -0.080075 -0.301844 -0.037547\n",
       "child     0.012794 -0.394761 -0.080075  1.000000 -0.434035 -0.053991\n",
       "adult     0.013019  0.424660 -0.301844 -0.434035  1.000000 -0.203519\n",
       "elder    -0.051224  0.446160 -0.037547 -0.053991 -0.203519  1.000000"
      ]
     },
     "execution_count": 88,
     "metadata": {},
     "output_type": "execute_result"
    }
   ],
   "source": [
    "age_df.corr()"
   ]
  },
  {
   "attachments": {},
   "cell_type": "markdown",
   "metadata": {},
   "source": [
    "Novos features tem no geral uma maior correlação do que a idade pura, mas ainda é um grau baixo."
   ]
  },
  {
   "attachments": {},
   "cell_type": "markdown",
   "metadata": {},
   "source": [
    "#### Hipótese 3 - Passageiros de classes mais elevadas, sobreviveram mais.\n",
    "\n",
    "Supondo que houve preferência na divisão dos botes ou que a posição dos passageiros durante o acidente impactou a sobrevivência.\n",
    "\n",
    "Pela distribuição, a maioria dos passageiros eram de terceira classe, com a soma da primeira e segunda classe sendo menor que o total da terceira."
   ]
  },
  {
   "cell_type": "code",
   "execution_count": 89,
   "metadata": {},
   "outputs": [
    {
     "data": {
      "text/plain": [
       "<seaborn.axisgrid.FacetGrid at 0x28f552a7880>"
      ]
     },
     "execution_count": 89,
     "metadata": {},
     "output_type": "execute_result"
    },
    {
     "data": {
      "image/png": "[encoded data removed]",
      "text/plain": [
       "<Figure size 500x500 with 1 Axes>"
      ]
     },
     "metadata": {},
     "output_type": "display_data"
    }
   ],
   "source": [
    "sns.displot(train, x=\"p_class\", kind=\"hist\", discrete=True)"
   ]
  },
  {
   "attachments": {},
   "cell_type": "markdown",
   "metadata": {},
   "source": [
    "Analisando os percentuais de sobrevivência, vemos quase o triplo percentual entre terceira e primeira classe."
   ]
  },
  {
   "cell_type": "code",
   "execution_count": 90,
   "metadata": {},
   "outputs": [
    {
     "name": "stdout",
     "output_type": "stream",
     "text": [
      "Percentual de 1ª classe sobrevivente: 0.6296296296296297\n"
     ]
    }
   ],
   "source": [
    "first = train.loc[train[\"p_class\"].eq(1)][\"survived\"]\n",
    "percentual_first = sum(first) / len(first)\n",
    "\n",
    "print(\"Percentual de 1ª classe sobrevivente:\", percentual_first)"
   ]
  },
  {
   "cell_type": "code",
   "execution_count": 91,
   "metadata": {},
   "outputs": [
    {
     "name": "stdout",
     "output_type": "stream",
     "text": [
      "Percentual de 2ª classe sobrevivente: 0.47282608695652173\n"
     ]
    }
   ],
   "source": [
    "second = train.loc[train[\"p_class\"].eq(2)][\"survived\"]\n",
    "percentual_second = sum(second) / len(second)\n",
    "\n",
    "print(\"Percentual de 2ª classe sobrevivente:\", percentual_second)"
   ]
  },
  {
   "cell_type": "code",
   "execution_count": 92,
   "metadata": {},
   "outputs": [
    {
     "name": "stdout",
     "output_type": "stream",
     "text": [
      "Percentual de 3ª classe sobrevivente: 0.24236252545824846\n"
     ]
    }
   ],
   "source": [
    "third = train.loc[train[\"p_class\"].eq(3)][\"survived\"]\n",
    "percentual_third = sum(third) / len(third)\n",
    "\n",
    "print(\"Percentual de 3ª classe sobrevivente:\", percentual_third)"
   ]
  },
  {
   "attachments": {},
   "cell_type": "markdown",
   "metadata": {},
   "source": [
    "E analisando a correlação, temos um grau moderado entre a classe e sobrevivência. Assim, essa também deve ser uma Feature interessante."
   ]
  },
  {
   "cell_type": "code",
   "execution_count": 93,
   "metadata": {},
   "outputs": [
    {
     "data": {
      "text/html": [
       "<div>\n",
       "<style scoped>\n",
       "    .dataframe tbody tr th:only-of-type {\n",
       "        vertical-align: middle;\n",
       "    }\n",
       "\n",
       "    .dataframe tbody tr th {\n",
       "        vertical-align: top;\n",
       "    }\n",
       "\n",
       "    .dataframe thead th {\n",
       "        text-align: right;\n",
       "    }\n",
       "</style>\n",
       "<table border=\"1\" class=\"dataframe\">\n",
       "  <thead>\n",
       "    <tr style=\"text-align: right;\">\n",
       "      <th></th>\n",
       "      <th>survived</th>\n",
       "      <th>p_class</th>\n",
       "    </tr>\n",
       "  </thead>\n",
       "  <tbody>\n",
       "    <tr>\n",
       "      <th>survived</th>\n",
       "      <td>1.000000</td>\n",
       "      <td>-0.338481</td>\n",
       "    </tr>\n",
       "    <tr>\n",
       "      <th>p_class</th>\n",
       "      <td>-0.338481</td>\n",
       "      <td>1.000000</td>\n",
       "    </tr>\n",
       "  </tbody>\n",
       "</table>\n",
       "</div>"
      ],
      "text/plain": [
       "          survived   p_class\n",
       "survived  1.000000 -0.338481\n",
       "p_class  -0.338481  1.000000"
      ]
     },
     "execution_count": 93,
     "metadata": {},
     "output_type": "execute_result"
    }
   ],
   "source": [
    "train[[\"survived\", \"p_class\"]].corr()"
   ]
  },
  {
   "attachments": {},
   "cell_type": "markdown",
   "metadata": {},
   "source": [
    "#### Hipótese 4 - Passageiros de cabines inferiores teriam menos chance de sobrevivência.\n",
    "\n",
    "Analisando um dado além do providos pela competição, mas que pode ser relevante, é a posição da cabine. Titanic possuía 10 decks, que vão do deck superior (A) até as cabines do motor no deck inferior. Pelas informações [históricas registradas](https://www.encyclopedia-titanica.org/titanic-deckplans/), podemos visualizar isso, pareado com a lógica de [distribuição das cabines](https://titanic.fandom.com/wiki/Category:Decks) entendemos que a primeira classe ficava nos decks superiores, seguida pela segunda classe e então a terceira nos inferiores. Nesse sentido, ambas Features podem ter uma alta correlação entre si.\n",
    "\n",
    "Como vemos nas informações do dataset, há uma grande falta de dados sobre as cabines. Poderíamos inferir algo vindo da classe do ticket do passageiro, mas isso reduziria o impacto dessa Feature no restante do modelo."
   ]
  },
  {
   "cell_type": "code",
   "execution_count": 94,
   "metadata": {},
   "outputs": [
    {
     "data": {
      "text/plain": [
       "True     687\n",
       "False    204\n",
       "Name: cabin, dtype: int64"
      ]
     },
     "execution_count": 94,
     "metadata": {},
     "output_type": "execute_result"
    }
   ],
   "source": [
    "train[\"cabin\"].isna().value_counts()"
   ]
  },
  {
   "attachments": {},
   "cell_type": "markdown",
   "metadata": {},
   "source": [
    "No momento, pela falta de informação e o risco de não ter uma grande contribuição para o modelo pelo esforço usado para desenvolve-la, deixaremos essa hipótese de lado."
   ]
  },
  {
   "attachments": {},
   "cell_type": "markdown",
   "metadata": {},
   "source": [
    "#### Hipótese 5 - Passageiros que pagaram um valor mais alto, tiveram prioridade.\n",
    "\n",
    "Hipótese semelhante à da classe do passageiro, mas nesse caso veremos se o valor do ticket em si acrescentaria algo a mais para o modelo.\n",
    "\n",
    "Analisaremos levando em consideração a p_class também.\n",
    "\n",
    "Pela distribuição, vemos que ela também é enviesada à direita. Além disso, praticamente todos os valores acima de $80 são da primeira classe, com a segunda e terceira juntas nos valores inferiores."
   ]
  },
  {
   "cell_type": "code",
   "execution_count": 95,
   "metadata": {},
   "outputs": [
    {
     "data": {
      "text/plain": [
       "<seaborn.axisgrid.FacetGrid at 0x28f56432860>"
      ]
     },
     "execution_count": 95,
     "metadata": {},
     "output_type": "execute_result"
    },
    {
     "data": {
      "image/png": "[encoded data removed]",
      "text/plain": [
       "<Figure size 561.361x500 with 1 Axes>"
      ]
     },
     "metadata": {},
     "output_type": "display_data"
    }
   ],
   "source": [
    "sns.displot(train, x=\"fare\", hue=\"p_class\")"
   ]
  },
  {
   "attachments": {},
   "cell_type": "markdown",
   "metadata": {},
   "source": [
    "Analisando a matriz de correlação tanto pelo método de Pearson (no caso para analisar a relação mais categórica entre p_class e survived) quanto Spearman (para fare e survived), vemos que há correlações moderadas para intensas entre as 3 variáveis. Entretanto, isso também significa que parte do impacto de fare esteja 'diluído' na p_class.\n",
    "\n",
    "De qualquer forma, ela ainda pode ser uma Feature interessante."
   ]
  },
  {
   "cell_type": "code",
   "execution_count": 96,
   "metadata": {},
   "outputs": [
    {
     "data": {
      "text/html": [
       "<div>\n",
       "<style scoped>\n",
       "    .dataframe tbody tr th:only-of-type {\n",
       "        vertical-align: middle;\n",
       "    }\n",
       "\n",
       "    .dataframe tbody tr th {\n",
       "        vertical-align: top;\n",
       "    }\n",
       "\n",
       "    .dataframe thead th {\n",
       "        text-align: right;\n",
       "    }\n",
       "</style>\n",
       "<table border=\"1\" class=\"dataframe\">\n",
       "  <thead>\n",
       "    <tr style=\"text-align: right;\">\n",
       "      <th></th>\n",
       "      <th>survived</th>\n",
       "      <th>fare</th>\n",
       "      <th>p_class</th>\n",
       "    </tr>\n",
       "  </thead>\n",
       "  <tbody>\n",
       "    <tr>\n",
       "      <th>survived</th>\n",
       "      <td>1.000000</td>\n",
       "      <td>0.323736</td>\n",
       "      <td>-0.339668</td>\n",
       "    </tr>\n",
       "    <tr>\n",
       "      <th>fare</th>\n",
       "      <td>0.323736</td>\n",
       "      <td>1.000000</td>\n",
       "      <td>-0.688032</td>\n",
       "    </tr>\n",
       "    <tr>\n",
       "      <th>p_class</th>\n",
       "      <td>-0.339668</td>\n",
       "      <td>-0.688032</td>\n",
       "      <td>1.000000</td>\n",
       "    </tr>\n",
       "  </tbody>\n",
       "</table>\n",
       "</div>"
      ],
      "text/plain": [
       "          survived      fare   p_class\n",
       "survived  1.000000  0.323736 -0.339668\n",
       "fare      0.323736  1.000000 -0.688032\n",
       "p_class  -0.339668 -0.688032  1.000000"
      ]
     },
     "execution_count": 96,
     "metadata": {},
     "output_type": "execute_result"
    }
   ],
   "source": [
    "train[[\"survived\", \"fare\", \"p_class\"]].corr(method=\"spearman\")"
   ]
  },
  {
   "cell_type": "code",
   "execution_count": 97,
   "metadata": {},
   "outputs": [
    {
     "data": {
      "text/html": [
       "<div>\n",
       "<style scoped>\n",
       "    .dataframe tbody tr th:only-of-type {\n",
       "        vertical-align: middle;\n",
       "    }\n",
       "\n",
       "    .dataframe tbody tr th {\n",
       "        vertical-align: top;\n",
       "    }\n",
       "\n",
       "    .dataframe thead th {\n",
       "        text-align: right;\n",
       "    }\n",
       "</style>\n",
       "<table border=\"1\" class=\"dataframe\">\n",
       "  <thead>\n",
       "    <tr style=\"text-align: right;\">\n",
       "      <th></th>\n",
       "      <th>survived</th>\n",
       "      <th>fare</th>\n",
       "      <th>p_class</th>\n",
       "    </tr>\n",
       "  </thead>\n",
       "  <tbody>\n",
       "    <tr>\n",
       "      <th>survived</th>\n",
       "      <td>1.000000</td>\n",
       "      <td>0.257307</td>\n",
       "      <td>-0.338481</td>\n",
       "    </tr>\n",
       "    <tr>\n",
       "      <th>fare</th>\n",
       "      <td>0.257307</td>\n",
       "      <td>1.000000</td>\n",
       "      <td>-0.549500</td>\n",
       "    </tr>\n",
       "    <tr>\n",
       "      <th>p_class</th>\n",
       "      <td>-0.338481</td>\n",
       "      <td>-0.549500</td>\n",
       "      <td>1.000000</td>\n",
       "    </tr>\n",
       "  </tbody>\n",
       "</table>\n",
       "</div>"
      ],
      "text/plain": [
       "          survived      fare   p_class\n",
       "survived  1.000000  0.257307 -0.338481\n",
       "fare      0.257307  1.000000 -0.549500\n",
       "p_class  -0.338481 -0.549500  1.000000"
      ]
     },
     "execution_count": 97,
     "metadata": {},
     "output_type": "execute_result"
    }
   ],
   "source": [
    "train[[\"survived\", \"fare\", \"p_class\"]].corr(method=\"pearson\")"
   ]
  },
  {
   "attachments": {},
   "cell_type": "markdown",
   "metadata": {},
   "source": [
    "#### Hipótese 6 - Famílias menores sobreviveram mais que famílias maiores.\n",
    "\n",
    "Supondo que durante a organização dos botes, manter famílias completas foi prioridade. Note que isso é altamente impactado pela primeira hipótese, de sexo, impactar.\n",
    "\n",
    "Olhando a distribuição, vemos que na verdade, a maior parte dos passageiros estava só ou acompanhado apenas de pouco familiares."
   ]
  },
  {
   "cell_type": "code",
   "execution_count": 98,
   "metadata": {},
   "outputs": [
    {
     "data": {
      "text/plain": [
       "<seaborn.axisgrid.FacetGrid at 0x28f564b80d0>"
      ]
     },
     "execution_count": 98,
     "metadata": {},
     "output_type": "execute_result"
    },
    {
     "data": {
      "image/png": "[encoded data removed]",
      "text/plain": [
       "<Figure size 500x500 with 1 Axes>"
      ]
     },
     "metadata": {},
     "output_type": "display_data"
    }
   ],
   "source": [
    "sns.displot(train, x=\"par_ch\")"
   ]
  },
  {
   "cell_type": "code",
   "execution_count": 99,
   "metadata": {},
   "outputs": [
    {
     "data": {
      "text/plain": [
       "<seaborn.axisgrid.FacetGrid at 0x28f567910f0>"
      ]
     },
     "execution_count": 99,
     "metadata": {},
     "output_type": "execute_result"
    },
    {
     "data": {
      "image/png": "[encoded data removed]",
      "text/plain": [
       "<Figure size 500x500 with 1 Axes>"
      ]
     },
     "metadata": {},
     "output_type": "display_data"
    }
   ],
   "source": [
    "sns.displot(train, x=\"sib_sp\")"
   ]
  },
  {
   "cell_type": "code",
   "execution_count": 100,
   "metadata": {},
   "outputs": [
    {
     "data": {
      "text/html": [
       "<div>\n",
       "<style scoped>\n",
       "    .dataframe tbody tr th:only-of-type {\n",
       "        vertical-align: middle;\n",
       "    }\n",
       "\n",
       "    .dataframe tbody tr th {\n",
       "        vertical-align: top;\n",
       "    }\n",
       "\n",
       "    .dataframe thead th {\n",
       "        text-align: right;\n",
       "    }\n",
       "</style>\n",
       "<table border=\"1\" class=\"dataframe\">\n",
       "  <thead>\n",
       "    <tr style=\"text-align: right;\">\n",
       "      <th></th>\n",
       "      <th>sib_sp</th>\n",
       "      <th>par_ch</th>\n",
       "    </tr>\n",
       "  </thead>\n",
       "  <tbody>\n",
       "    <tr>\n",
       "      <th>count</th>\n",
       "      <td>891.000000</td>\n",
       "      <td>891.000000</td>\n",
       "    </tr>\n",
       "    <tr>\n",
       "      <th>mean</th>\n",
       "      <td>0.523008</td>\n",
       "      <td>0.381594</td>\n",
       "    </tr>\n",
       "    <tr>\n",
       "      <th>std</th>\n",
       "      <td>1.102743</td>\n",
       "      <td>0.806057</td>\n",
       "    </tr>\n",
       "    <tr>\n",
       "      <th>min</th>\n",
       "      <td>0.000000</td>\n",
       "      <td>0.000000</td>\n",
       "    </tr>\n",
       "    <tr>\n",
       "      <th>25%</th>\n",
       "      <td>0.000000</td>\n",
       "      <td>0.000000</td>\n",
       "    </tr>\n",
       "    <tr>\n",
       "      <th>50%</th>\n",
       "      <td>0.000000</td>\n",
       "      <td>0.000000</td>\n",
       "    </tr>\n",
       "    <tr>\n",
       "      <th>75%</th>\n",
       "      <td>1.000000</td>\n",
       "      <td>0.000000</td>\n",
       "    </tr>\n",
       "    <tr>\n",
       "      <th>max</th>\n",
       "      <td>8.000000</td>\n",
       "      <td>6.000000</td>\n",
       "    </tr>\n",
       "  </tbody>\n",
       "</table>\n",
       "</div>"
      ],
      "text/plain": [
       "           sib_sp      par_ch\n",
       "count  891.000000  891.000000\n",
       "mean     0.523008    0.381594\n",
       "std      1.102743    0.806057\n",
       "min      0.000000    0.000000\n",
       "25%      0.000000    0.000000\n",
       "50%      0.000000    0.000000\n",
       "75%      1.000000    0.000000\n",
       "max      8.000000    6.000000"
      ]
     },
     "execution_count": 100,
     "metadata": {},
     "output_type": "execute_result"
    }
   ],
   "source": [
    "train[[\"sib_sp\", \"par_ch\"]].describe()"
   ]
  },
  {
   "cell_type": "code",
   "execution_count": 101,
   "metadata": {},
   "outputs": [
    {
     "data": {
      "text/html": [
       "<div>\n",
       "<style scoped>\n",
       "    .dataframe tbody tr th:only-of-type {\n",
       "        vertical-align: middle;\n",
       "    }\n",
       "\n",
       "    .dataframe tbody tr th {\n",
       "        vertical-align: top;\n",
       "    }\n",
       "\n",
       "    .dataframe thead th {\n",
       "        text-align: right;\n",
       "    }\n",
       "</style>\n",
       "<table border=\"1\" class=\"dataframe\">\n",
       "  <thead>\n",
       "    <tr style=\"text-align: right;\">\n",
       "      <th></th>\n",
       "      <th>survived</th>\n",
       "      <th>sib_sp</th>\n",
       "      <th>par_ch</th>\n",
       "    </tr>\n",
       "  </thead>\n",
       "  <tbody>\n",
       "    <tr>\n",
       "      <th>survived</th>\n",
       "      <td>1.000000</td>\n",
       "      <td>0.088879</td>\n",
       "      <td>0.138266</td>\n",
       "    </tr>\n",
       "    <tr>\n",
       "      <th>sib_sp</th>\n",
       "      <td>0.088879</td>\n",
       "      <td>1.000000</td>\n",
       "      <td>0.450014</td>\n",
       "    </tr>\n",
       "    <tr>\n",
       "      <th>par_ch</th>\n",
       "      <td>0.138266</td>\n",
       "      <td>0.450014</td>\n",
       "      <td>1.000000</td>\n",
       "    </tr>\n",
       "  </tbody>\n",
       "</table>\n",
       "</div>"
      ],
      "text/plain": [
       "          survived    sib_sp    par_ch\n",
       "survived  1.000000  0.088879  0.138266\n",
       "sib_sp    0.088879  1.000000  0.450014\n",
       "par_ch    0.138266  0.450014  1.000000"
      ]
     },
     "execution_count": 101,
     "metadata": {},
     "output_type": "execute_result"
    }
   ],
   "source": [
    "train[[\"survived\", \"sib_sp\", \"par_ch\"]].corr(method=\"spearman\")"
   ]
  },
  {
   "attachments": {},
   "cell_type": "markdown",
   "metadata": {},
   "source": [
    "Vendo a baixa correlação e o fato que a distribuição é extremamente enviesada a direita, a feature por si só talvez não seja tão interessante. Considerando passageiros sozinhos em comparação aos acompanhados, vemos que os sozinhos de fato sobreviveram menos que os acompanhados de algum membro da família."
   ]
  },
  {
   "cell_type": "code",
   "execution_count": 102,
   "metadata": {},
   "outputs": [
    {
     "name": "stdout",
     "output_type": "stream",
     "text": [
      "Percentual de passageiros sozinhos sobreviventes: 0.30353817504655495\n"
     ]
    }
   ],
   "source": [
    "alone = train.loc[(train[\"sib_sp\"].eq(0)) & (train[\"par_ch\"].eq(0))][\"survived\"]\n",
    "percentual_alone = sum(alone) / len(alone)\n",
    "\n",
    "print(\"Percentual de passageiros sozinhos sobreviventes:\", percentual_alone)"
   ]
  },
  {
   "cell_type": "code",
   "execution_count": 103,
   "metadata": {},
   "outputs": [
    {
     "name": "stdout",
     "output_type": "stream",
     "text": [
      "Percentual de passageiros com familía sobreviventes: 0.5056497175141242\n"
     ]
    }
   ],
   "source": [
    "family = train.loc[(train[\"sib_sp\"].ne(0)) | (train[\"par_ch\"].ne(0))][\"survived\"]\n",
    "percentual_family = sum(family) / len(family)\n",
    "\n",
    "print(\"Percentual de passageiros com familía sobreviventes:\", percentual_family)"
   ]
  },
  {
   "cell_type": "code",
   "execution_count": 104,
   "metadata": {},
   "outputs": [
    {
     "name": "stdout",
     "output_type": "stream",
     "text": [
      "<class 'pandas.core.frame.DataFrame'>\n",
      "RangeIndex: 891 entries, 0 to 890\n",
      "Data columns (total 4 columns):\n",
      " #   Column    Non-Null Count  Dtype\n",
      "---  ------    --------------  -----\n",
      " 0   survived  891 non-null    int64\n",
      " 1   sib_sp    891 non-null    int64\n",
      " 2   par_ch    891 non-null    int64\n",
      " 3   alone     891 non-null    bool \n",
      "dtypes: bool(1), int64(3)\n",
      "memory usage: 21.9 KB\n"
     ]
    }
   ],
   "source": [
    "company_df = train.loc[:, (\"survived\", \"sib_sp\", \"par_ch\")]\n",
    "company_df[\"alone\"] = np.logical_and(\n",
    "    (company_df[\"sib_sp\"].eq(0)), (company_df[\"par_ch\"].eq(0))\n",
    ")\n",
    "company_df.info()"
   ]
  },
  {
   "attachments": {},
   "cell_type": "markdown",
   "metadata": {},
   "source": [
    "Vemos um aumento razoável na correlação entre sobrevivência e passageiros sozinhos, tendo uma correlação moderada agora. Esse Feature pode ser mais interessante de ser usado no fim."
   ]
  },
  {
   "cell_type": "code",
   "execution_count": 105,
   "metadata": {},
   "outputs": [
    {
     "data": {
      "text/html": [
       "<div>\n",
       "<style scoped>\n",
       "    .dataframe tbody tr th:only-of-type {\n",
       "        vertical-align: middle;\n",
       "    }\n",
       "\n",
       "    .dataframe tbody tr th {\n",
       "        vertical-align: top;\n",
       "    }\n",
       "\n",
       "    .dataframe thead th {\n",
       "        text-align: right;\n",
       "    }\n",
       "</style>\n",
       "<table border=\"1\" class=\"dataframe\">\n",
       "  <thead>\n",
       "    <tr style=\"text-align: right;\">\n",
       "      <th></th>\n",
       "      <th>survived</th>\n",
       "      <th>sib_sp</th>\n",
       "      <th>par_ch</th>\n",
       "      <th>alone</th>\n",
       "    </tr>\n",
       "  </thead>\n",
       "  <tbody>\n",
       "    <tr>\n",
       "      <th>survived</th>\n",
       "      <td>1.000000</td>\n",
       "      <td>-0.035322</td>\n",
       "      <td>0.081629</td>\n",
       "      <td>-0.203367</td>\n",
       "    </tr>\n",
       "    <tr>\n",
       "      <th>sib_sp</th>\n",
       "      <td>-0.035322</td>\n",
       "      <td>1.000000</td>\n",
       "      <td>0.414838</td>\n",
       "      <td>-0.584471</td>\n",
       "    </tr>\n",
       "    <tr>\n",
       "      <th>par_ch</th>\n",
       "      <td>0.081629</td>\n",
       "      <td>0.414838</td>\n",
       "      <td>1.000000</td>\n",
       "      <td>-0.583398</td>\n",
       "    </tr>\n",
       "    <tr>\n",
       "      <th>alone</th>\n",
       "      <td>-0.203367</td>\n",
       "      <td>-0.584471</td>\n",
       "      <td>-0.583398</td>\n",
       "      <td>1.000000</td>\n",
       "    </tr>\n",
       "  </tbody>\n",
       "</table>\n",
       "</div>"
      ],
      "text/plain": [
       "          survived    sib_sp    par_ch     alone\n",
       "survived  1.000000 -0.035322  0.081629 -0.203367\n",
       "sib_sp   -0.035322  1.000000  0.414838 -0.584471\n",
       "par_ch    0.081629  0.414838  1.000000 -0.583398\n",
       "alone    -0.203367 -0.584471 -0.583398  1.000000"
      ]
     },
     "execution_count": 105,
     "metadata": {},
     "output_type": "execute_result"
    }
   ],
   "source": [
    "company_df.corr()"
   ]
  },
  {
   "attachments": {},
   "cell_type": "markdown",
   "metadata": {},
   "source": [
    "##### Portos mais próximos ao destino influenciaram na sobrevivência."
   ]
  },
  {
   "attachments": {},
   "cell_type": "markdown",
   "metadata": {},
   "source": [
    "Essa hipótese é mais para explorar o impacto do porto atracado na sobrevivência."
   ]
  },
  {
   "cell_type": "code",
   "execution_count": 106,
   "metadata": {},
   "outputs": [
    {
     "name": "stdout",
     "output_type": "stream",
     "text": [
      "<class 'pandas.core.frame.DataFrame'>\n",
      "Int64Index: 889 entries, 0 to 890\n",
      "Data columns (total 2 columns):\n",
      " #   Column    Non-Null Count  Dtype\n",
      "---  ------    --------------  -----\n",
      " 0   survived  889 non-null    int64\n",
      " 1   embarked  889 non-null    int64\n",
      "dtypes: int64(2)\n",
      "memory usage: 20.8 KB\n"
     ]
    }
   ],
   "source": [
    "embarked_df = train.loc[:, [\"survived\", \"embarked\"]]\n",
    "# removendo os dois que não tem informação, assumindo que eles nunca embarcaram.\n",
    "embarked_df = embarked_df.dropna(subset=[\"embarked\"])\n",
    "embarked_df[\"embarked\"] = embarked_df[\"embarked\"].replace(\n",
    "    {\n",
    "        \"S\": 1,\n",
    "        \"C\": 2,\n",
    "        \"Q\": 3,\n",
    "    }\n",
    ")\n",
    "embarked_df[\"embarked\"] = pd.to_numeric(embarked_df[\"embarked\"])\n",
    "embarked_df.info()"
   ]
  },
  {
   "cell_type": "code",
   "execution_count": 107,
   "metadata": {},
   "outputs": [
    {
     "data": {
      "text/html": [
       "<div>\n",
       "<style scoped>\n",
       "    .dataframe tbody tr th:only-of-type {\n",
       "        vertical-align: middle;\n",
       "    }\n",
       "\n",
       "    .dataframe tbody tr th {\n",
       "        vertical-align: top;\n",
       "    }\n",
       "\n",
       "    .dataframe thead th {\n",
       "        text-align: right;\n",
       "    }\n",
       "</style>\n",
       "<table border=\"1\" class=\"dataframe\">\n",
       "  <thead>\n",
       "    <tr style=\"text-align: right;\">\n",
       "      <th></th>\n",
       "      <th>survived</th>\n",
       "      <th>embarked</th>\n",
       "    </tr>\n",
       "  </thead>\n",
       "  <tbody>\n",
       "    <tr>\n",
       "      <th>survived</th>\n",
       "      <td>1.000000</td>\n",
       "      <td>0.108669</td>\n",
       "    </tr>\n",
       "    <tr>\n",
       "      <th>embarked</th>\n",
       "      <td>0.108669</td>\n",
       "      <td>1.000000</td>\n",
       "    </tr>\n",
       "  </tbody>\n",
       "</table>\n",
       "</div>"
      ],
      "text/plain": [
       "          survived  embarked\n",
       "survived  1.000000  0.108669\n",
       "embarked  0.108669  1.000000"
      ]
     },
     "execution_count": 107,
     "metadata": {},
     "output_type": "execute_result"
    }
   ],
   "source": [
    "embarked_df.corr()"
   ]
  },
  {
   "cell_type": "code",
   "execution_count": 108,
   "metadata": {},
   "outputs": [
    {
     "data": {
      "text/plain": [
       "<seaborn.axisgrid.FacetGrid at 0x28f5391ae90>"
      ]
     },
     "execution_count": 108,
     "metadata": {},
     "output_type": "execute_result"
    },
    {
     "data": {
      "image/png": "[encoded data removed]",
      "text/plain": [
       "<Figure size 500x500 with 1 Axes>"
      ]
     },
     "metadata": {},
     "output_type": "display_data"
    }
   ],
   "source": [
    "sns.displot(embarked_df, x=\"embarked\", discrete=True)"
   ]
  },
  {
   "cell_type": "code",
   "execution_count": 109,
   "metadata": {},
   "outputs": [
    {
     "name": "stdout",
     "output_type": "stream",
     "text": [
      "Percentual de Southampton classe sobrevivente: 0.38961038961038963\n"
     ]
    }
   ],
   "source": [
    "south = embarked_df.loc[embarked_df[\"embarked\"].eq(3)][\"survived\"]\n",
    "percentual_south = sum(south) / len(south)\n",
    "\n",
    "print(\"Percentual de Southampton classe sobrevivente:\", percentual_south)"
   ]
  },
  {
   "cell_type": "code",
   "execution_count": 110,
   "metadata": {},
   "outputs": [
    {
     "name": "stdout",
     "output_type": "stream",
     "text": [
      "Percentual de Cherbourg classe sobrevivente: 0.5535714285714286\n"
     ]
    }
   ],
   "source": [
    "cherbourg = embarked_df.loc[embarked_df[\"embarked\"].eq(2)][\"survived\"]\n",
    "percentual_cherbourg = sum(cherbourg) / len(cherbourg)\n",
    "\n",
    "print(\"Percentual de Cherbourg classe sobrevivente:\", percentual_cherbourg)"
   ]
  },
  {
   "cell_type": "code",
   "execution_count": 111,
   "metadata": {},
   "outputs": [
    {
     "name": "stdout",
     "output_type": "stream",
     "text": [
      "Percentual de Queenstown classe sobrevivente: 0.38961038961038963\n"
     ]
    }
   ],
   "source": [
    "queen = embarked_df.loc[embarked_df[\"embarked\"].eq(3)][\"survived\"]\n",
    "percentual_queen = sum(queen) / len(queen)\n",
    "\n",
    "print(\"Percentual de Queenstown classe sobrevivente:\", percentual_queen)"
   ]
  },
  {
   "attachments": {},
   "cell_type": "markdown",
   "metadata": {},
   "source": [
    "A diferença não é tão alta, sendo um feature que será descartado, ao menos inicialmente."
   ]
  }
 ],
 "metadata": {
  "kernelspec": {
   "display_name": ".venv",
   "language": "python",
   "name": "python3"
  },
  "language_info": {
   "codemirror_mode": {
    "name": "ipython",
    "version": 3
   },
   "file_extension": ".py",
   "mimetype": "text/x-python",
   "name": "python",
   "nbconvert_exporter": "python",
   "pygments_lexer": "ipython3",
   "version": "3.10.0"
  },
  "orig_nbformat": 4,
  "vscode": {
   "interpreter": {
    "hash": "4ddf9fd34b59fb13a4b9cd8f11e7719fb16373359848fa4ba3ca28ad9c242f09"
   }
  }
 },
 "nbformat": 4,
 "nbformat_minor": 2
}
